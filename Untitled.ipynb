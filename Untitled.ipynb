{
 "cells": [
  {
   "cell_type": "code",
   "execution_count": 1,
   "id": "c3dc4657-7445-41de-8325-2ddd097c371c",
   "metadata": {},
   "outputs": [
    {
     "data": {
      "text/plain": [
       "['',\n",
       " 'home',\n",
       " 'lioneloliveira',\n",
       " 'Desktop',\n",
       " 'webpage',\n",
       " 'models',\n",
       " 'dexray',\n",
       " 'apk_files',\n",
       " 'insta_light.apk.png']"
      ]
     },
     "execution_count": 1,
     "metadata": {},
     "output_type": "execute_result"
    }
   ],
   "source": [
    "p = \"/home/lioneloliveira/Desktop/webpage/models/dexray/apk_files/insta_light.apk.png\"\n",
    "p.split(\"/\")"
   ]
  },
  {
   "cell_type": "code",
   "execution_count": null,
   "id": "4a7aa56b-785d-463f-b0d4-ab2fb481bdcd",
   "metadata": {},
   "outputs": [],
   "source": []
  }
 ],
 "metadata": {
  "kernelspec": {
   "display_name": "Python 3 (ipykernel)",
   "language": "python",
   "name": "python3"
  },
  "language_info": {
   "codemirror_mode": {
    "name": "ipython",
    "version": 3
   },
   "file_extension": ".py",
   "mimetype": "text/x-python",
   "name": "python",
   "nbconvert_exporter": "python",
   "pygments_lexer": "ipython3",
   "version": "3.9.2"
  }
 },
 "nbformat": 4,
 "nbformat_minor": 5
}
